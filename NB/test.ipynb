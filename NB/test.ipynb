{
 "cells": [
  {
   "cell_type": "code",
   "execution_count": 1,
   "metadata": {},
   "outputs": [],
   "source": [
    "import csv\n",
    "from sklearn.linear_model import LogisticRegression\n",
    "from sklearn.feature_extraction.text import TfidfVectorizer\n",
    "import json\n",
    "from json import JSONDecodeError, JSONEncoder\n",
    "import pandas as pd\n",
    "import pickle\n",
    "import os\n",
    "import collections\n",
    "from sklearn import metrics\n",
    "import sklearn\n",
    "import numpy as np\n",
    "# from model import spam_ham\n",
    "import json\n",
    "from flask import (\n",
    "\tFlask,\n",
    "\trequest\n",
    ")\n",
    "from importlib import import_module, reload\n"
   ]
  },
  {
   "cell_type": "code",
   "execution_count": 22,
   "metadata": {},
   "outputs": [],
   "source": [
    "class spam_ham:\n",
    "    def __init__(self, data_path):\n",
    "        self.data_path = data_path\n",
    "    def data_read(self):\n",
    "        f = open(self.data_path,'r')\n",
    "        data = csv.reader(f)\n",
    "        cat_map = {\n",
    "                \"ham\": 0,\n",
    "                \"spam\": 1\n",
    "            }\n",
    "        msgs, self.labels = [], []    \n",
    "        for i,r in enumerate(data):\n",
    "            if i == 0:\n",
    "                continue\n",
    "            label,msg = cat_map[r[0]],r[1].strip()\n",
    "            msgs.append(msg)\n",
    "            self.labels.append(label)\n",
    "        tf_idf = TfidfVectorizer()\n",
    "        tf_idf.fit(msgs)\n",
    "        self.X = tf_idf.fit_transform(msgs)\n",
    "        with open('../scripts/tf_idf.pkl','wb') as f:\n",
    "            pickle.dump(tf_idf,f)   \n",
    "        return self.X,self.labels,tf_idf,msgs\n",
    "    def tf_idf_transform(self,text,tf_idf):\n",
    "        features = tf_idf.transform(text)\n",
    "        return self\n",
    "    def train(self):\n",
    "        clf = LogisticRegression()\n",
    "        clf.fit(self.X,self.labels)\n",
    "        with open('../scripts/clf.pkl','wb') as f:\n",
    "            pickle.dump(clf,f) \n",
    "        return clf\n",
    "    def Predict(model,X):\n",
    "        return model.predict(X)[0]"
   ]
  },
  {
   "cell_type": "code",
   "execution_count": 23,
   "metadata": {},
   "outputs": [],
   "source": [
    "path = '../data/SPAM_Data.csv'\n",
    "sh = spam_ham(path)\n",
    "X,label,tf_idf,msgs = sh.data_read()\n",
    "# sh.tf_idf_transform(tf_idf)\n",
    "mod = sh.train()\n",
    "# sh.Predict(mod,X[0])"
   ]
  },
  {
   "cell_type": "code",
   "execution_count": 45,
   "metadata": {},
   "outputs": [],
   "source": [
    "class spam_ham_predict:\n",
    "    def __init__(self, clf_path,tf_idf_path):\n",
    "        self.clf = pickle.load(open(clf_path,'rb'))\n",
    "        self.tf_idf = pickle.load(open(tf_idf_path,'rb'))\n",
    "    def Featurize(self,text):\n",
    "        features = self.tf_idf.transform([text])\n",
    "        return features\n",
    "    def Predict(self,features):    \n",
    "        return self.clf.predict(features)[0]"
   ]
  },
  {
   "cell_type": "code",
   "execution_count": 46,
   "metadata": {},
   "outputs": [
    {
     "data": {
      "text/plain": [
       "0"
      ]
     },
     "execution_count": 46,
     "metadata": {},
     "output_type": "execute_result"
    }
   ],
   "source": [
    "tf_idf_path = '../scripts/tf_idf.pkl'\n",
    "clf_path = '../scripts/clf.pkl'\n",
    "sh = spam_ham_predict(clf_path,tf_idf_path)\n",
    "feats = sh.Featurize(msgs[0])\n",
    "sh.Predict(feats)"
   ]
  },
  {
   "cell_type": "code",
   "execution_count": 74,
   "metadata": {},
   "outputs": [
    {
     "data": {
      "text/plain": [
       "array([1])"
      ]
     },
     "execution_count": 74,
     "metadata": {},
     "output_type": "execute_result"
    }
   ],
   "source": [
    "# res = request.post('http://127.0.0.1:5000/predict', json={\"text\": \"You are a winner U have been specially selected 2 receive ¬£1000 or a 4* holiday (flights inc) speak to a live operator 2 claim 0871277810910p/min (18+)\"})\n",
    "# request.po\n",
    "json={\"text\": \"You are a winner U have been specially selected 2 receive ¬£1000 or a 4* holiday (flights inc) speak to a live operator 2 claim 0871277810910p/min (18+)\"}\n",
    "X = tf_idf.transform(list(json.values()))\n",
    "mod.predict(X.reshape(1,-1))"
   ]
  },
  {
   "cell_type": "code",
   "execution_count": null,
   "metadata": {},
   "outputs": [],
   "source": []
  }
 ],
 "metadata": {
  "kernelspec": {
   "display_name": "Python 3.8.8 ('base')",
   "language": "python",
   "name": "python3"
  },
  "language_info": {
   "codemirror_mode": {
    "name": "ipython",
    "version": 3
   },
   "file_extension": ".py",
   "mimetype": "text/x-python",
   "name": "python",
   "nbconvert_exporter": "python",
   "pygments_lexer": "ipython3",
   "version": "3.8.8"
  },
  "orig_nbformat": 4,
  "vscode": {
   "interpreter": {
    "hash": "ad2bdc8ecc057115af97d19610ffacc2b4e99fae6737bb82f5d7fb13d2f2c186"
   }
  }
 },
 "nbformat": 4,
 "nbformat_minor": 2
}
